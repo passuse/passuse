{
 "cells": [
  {
   "cell_type": "code",
   "execution_count": 9,
   "metadata": {
    "ExecuteTime": {
     "end_time": "2023-09-24T03:54:04.049983900Z",
     "start_time": "2023-09-24T03:54:04.013983600Z"
    }
   },
   "outputs": [],
   "source": [
    "from solver import Solver\n",
    "from visualize import plot_loss_and_acc"
   ]
  },
  {
   "cell_type": "code",
   "execution_count": 10,
   "metadata": {
    "ExecuteTime": {
     "end_time": "2023-09-24T03:54:04.128130800Z",
     "start_time": "2023-09-24T03:54:04.026980600Z"
    }
   },
   "outputs": [
    {
     "ename": "NameError",
     "evalue": "name 'batch_size' is not defined",
     "output_type": "error",
     "traceback": [
      "\u001B[1;31m---------------------------------------------------------------------------\u001B[0m",
      "\u001B[1;31mNameError\u001B[0m                                 Traceback (most recent call last)",
      "Cell \u001B[1;32mIn[10], line 12\u001B[0m\n\u001B[0;32m      2\u001B[0m cfg \u001B[38;5;241m=\u001B[39m {\n\u001B[0;32m      3\u001B[0m     \u001B[38;5;124m'\u001B[39m\u001B[38;5;124mdata_root\u001B[39m\u001B[38;5;124m'\u001B[39m: \u001B[38;5;124m'\u001B[39m\u001B[38;5;124mdata\u001B[39m\u001B[38;5;124m'\u001B[39m,\n\u001B[0;32m      4\u001B[0m     \u001B[38;5;124m'\u001B[39m\u001B[38;5;124mmax_epoch\u001B[39m\u001B[38;5;124m'\u001B[39m: \u001B[38;5;241m10\u001B[39m,\n\u001B[1;32m   (...)\u001B[0m\n\u001B[0;32m      8\u001B[0m     \u001B[38;5;124m'\u001B[39m\u001B[38;5;124mdisplay_freq\u001B[39m\u001B[38;5;124m'\u001B[39m: \u001B[38;5;241m50\u001B[39m,\n\u001B[0;32m      9\u001B[0m }\n\u001B[0;32m     11\u001B[0m runner \u001B[38;5;241m=\u001B[39m Solver(cfg)\n\u001B[1;32m---> 12\u001B[0m loss1, acc1 \u001B[38;5;241m=\u001B[39m \u001B[43mrunner\u001B[49m\u001B[38;5;241;43m.\u001B[39;49m\u001B[43mtrain\u001B[49m\u001B[43m(\u001B[49m\u001B[43m)\u001B[49m\n",
      "File \u001B[1;32m~\\PycharmProjects\\pythonProject3\\实验一\\hw1\\solver.py:50\u001B[0m, in \u001B[0;36mSolver.train\u001B[1;34m(self)\u001B[0m\n\u001B[0;32m     47\u001B[0m iteration_train_loss, iteration_train_acc \u001B[38;5;241m=\u001B[39m [], []\n\u001B[0;32m     48\u001B[0m \u001B[38;5;28;01mfor\u001B[39;00m iteration, (images, labels) \u001B[38;5;129;01min\u001B[39;00m \u001B[38;5;28menumerate\u001B[39m(\u001B[38;5;28mself\u001B[39m\u001B[38;5;241m.\u001B[39mtrain_loader):\n\u001B[0;32m     49\u001B[0m     \u001B[38;5;66;03m# forward pass\u001B[39;00m\n\u001B[1;32m---> 50\u001B[0m     loss, acc \u001B[38;5;241m=\u001B[39m \u001B[38;5;28;43mself\u001B[39;49m\u001B[38;5;241;43m.\u001B[39;49m\u001B[43mmodel\u001B[49m\u001B[38;5;241;43m.\u001B[39;49m\u001B[43mforward\u001B[49m\u001B[43m(\u001B[49m\u001B[43mimages\u001B[49m\u001B[43m,\u001B[49m\u001B[43m \u001B[49m\u001B[43mlabels\u001B[49m\u001B[43m)\u001B[49m\n\u001B[0;32m     52\u001B[0m     \u001B[38;5;28mself\u001B[39m\u001B[38;5;241m.\u001B[39mmodel\u001B[38;5;241m.\u001B[39mgradient_computing()\n\u001B[0;32m     54\u001B[0m     \u001B[38;5;66;03m# updata the model weights\u001B[39;00m\n",
      "File \u001B[1;32m~\\PycharmProjects\\pythonProject3\\实验一\\hw1\\loss.py:46\u001B[0m, in \u001B[0;36mSoftmaxCrossEntropyLoss.forward\u001B[1;34m(self, Input, labels)\u001B[0m\n\u001B[0;32m     43\u001B[0m probs \u001B[38;5;241m=\u001B[39m exp_scores \u001B[38;5;241m/\u001B[39m np\u001B[38;5;241m.\u001B[39msum(exp_scores, axis\u001B[38;5;241m=\u001B[39m\u001B[38;5;241m1\u001B[39m, keepdims\u001B[38;5;241m=\u001B[39m\u001B[38;5;28;01mTrue\u001B[39;00m)  \u001B[38;5;66;03m# shape: (batch_size, 10)\u001B[39;00m\n\u001B[0;32m     45\u001B[0m \u001B[38;5;66;03m# Calculate the softmax cross entropy loss\u001B[39;00m\n\u001B[1;32m---> 46\u001B[0m correct_logprobs \u001B[38;5;241m=\u001B[39m \u001B[38;5;241m-\u001B[39mnp\u001B[38;5;241m.\u001B[39mlog(probs[\u001B[38;5;28mrange\u001B[39m(\u001B[43mbatch_size\u001B[49m), labels])  \u001B[38;5;66;03m# shape: (batch_size,)\u001B[39;00m\n\u001B[0;32m     47\u001B[0m loss \u001B[38;5;241m=\u001B[39m np\u001B[38;5;241m.\u001B[39msum(correct_logprobs) \u001B[38;5;241m/\u001B[39m batch_size  \u001B[38;5;66;03m# scalar\u001B[39;00m\n\u001B[0;32m     49\u001B[0m \u001B[38;5;66;03m# Calculate the accuracy\u001B[39;00m\n",
      "\u001B[1;31mNameError\u001B[0m: name 'batch_size' is not defined"
     ]
    }
   ],
   "source": [
    "# train without momentum\n",
    "cfg = {\n",
    "    'data_root': 'data',\n",
    "    'max_epoch': 10,\n",
    "    'batch_size': 100,\n",
    "    'learning_rate': 0.01,\n",
    "    'momentum': 0,\n",
    "    'display_freq': 50,\n",
    "}\n",
    "\n",
    "runner = Solver(cfg)\n",
    "loss1, acc1 = runner.train()"
   ]
  },
  {
   "cell_type": "code",
   "execution_count": null,
   "metadata": {},
   "outputs": [],
   "source": [
    "test_loss, test_acc = runner.test()\n",
    "print('Final test accuracy {:.4f}\\n'.format(test_acc))"
   ]
  },
  {
   "cell_type": "code",
   "execution_count": null,
   "metadata": {},
   "outputs": [],
   "source": [
    "# train with momentum\n",
    "cfg = {\n",
    "    'data_root': 'data',\n",
    "    'max_epoch': 10,\n",
    "    'batch_size': 100,\n",
    "    'learning_rate': 0.01,\n",
    "    'momentum': 0.9,\n",
    "    'display_freq': 50,\n",
    "}\n",
    "\n",
    "runner = Solver(cfg)\n",
    "loss2, acc2 = runner.train()"
   ]
  },
  {
   "cell_type": "code",
   "execution_count": null,
   "metadata": {},
   "outputs": [],
   "source": [
    "test_loss, test_acc = runner.test()\n",
    "print('Final test accuracy {:.4f}\\n'.format(test_acc))"
   ]
  },
  {
   "cell_type": "code",
   "execution_count": null,
   "metadata": {},
   "outputs": [],
   "source": [
    "plot_loss_and_acc({\n",
    "    \"momentum=0\": [loss1, acc1],\n",
    "    \"momentum=0.9\": [loss2, acc2]\n",
    "})"
   ]
  },
  {
   "cell_type": "code",
   "execution_count": null,
   "outputs": [],
   "source": [],
   "metadata": {
    "collapsed": false
   }
  }
 ],
 "metadata": {
  "kernelspec": {
   "display_name": "Python 3",
   "language": "python",
   "name": "python3"
  },
  "language_info": {
   "codemirror_mode": {
    "name": "ipython",
    "version": 3
   },
   "file_extension": ".py",
   "mimetype": "text/x-python",
   "name": "python",
   "nbconvert_exporter": "python",
   "pygments_lexer": "ipython3",
   "version": "3.6.4"
  }
 },
 "nbformat": 4,
 "nbformat_minor": 4
}
